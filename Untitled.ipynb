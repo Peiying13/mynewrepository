{
 "cells": [
  {
   "cell_type": "code",
   "execution_count": 1,
   "id": "e9d84b8b",
   "metadata": {},
   "outputs": [
    {
     "data": {
      "text/plain": [
       "2"
      ]
     },
     "execution_count": 1,
     "metadata": {},
     "output_type": "execute_result"
    }
   ],
   "source": [
    "8%3"
   ]
  },
  {
   "cell_type": "code",
   "execution_count": 2,
   "id": "f314bdba",
   "metadata": {},
   "outputs": [],
   "source": [
    "# variable\n",
    "# x, y cloud be an words any letter"
   ]
  },
  {
   "cell_type": "code",
   "execution_count": 3,
   "id": "01b51f34",
   "metadata": {},
   "outputs": [],
   "source": [
    "h = \"hello\"+\" world\""
   ]
  },
  {
   "cell_type": "code",
   "execution_count": 5,
   "id": "45a4a678",
   "metadata": {},
   "outputs": [
    {
     "name": "stdout",
     "output_type": "stream",
     "text": [
      "hello world\n"
     ]
    }
   ],
   "source": [
    "print(h)"
   ]
  },
  {
   "cell_type": "code",
   "execution_count": 7,
   "id": "2641e7b0",
   "metadata": {},
   "outputs": [],
   "source": [
    "age = 21\n",
    "name = 'fan'"
   ]
  },
  {
   "cell_type": "code",
   "execution_count": 8,
   "id": "48da5c44",
   "metadata": {},
   "outputs": [
    {
     "name": "stdout",
     "output_type": "stream",
     "text": [
      "my name is: fan and my age is:21\n"
     ]
    }
   ],
   "source": [
    "print('my name is: {} and my age is:{}'.format(name, age))"
   ]
  },
  {
   "cell_type": "code",
   "execution_count": 9,
   "id": "466ac1cd",
   "metadata": {},
   "outputs": [
    {
     "data": {
      "text/plain": [
       "{1, 2, 3, 4}"
      ]
     },
     "execution_count": 9,
     "metadata": {},
     "output_type": "execute_result"
    }
   ],
   "source": [
    "{1,2,2,3,3,3,4}"
   ]
  },
  {
   "cell_type": "code",
   "execution_count": 13,
   "id": "d2752e78",
   "metadata": {},
   "outputs": [],
   "source": [
    "nest = [1,2,2,3,[3,5,2],3]"
   ]
  },
  {
   "cell_type": "code",
   "execution_count": 15,
   "id": "c24591c2",
   "metadata": {},
   "outputs": [
    {
     "data": {
      "text/plain": [
       "5"
      ]
     },
     "execution_count": 15,
     "metadata": {},
     "output_type": "execute_result"
    }
   ],
   "source": [
    "nest[4][1]"
   ]
  },
  {
   "cell_type": "code",
   "execution_count": 16,
   "id": "12cadca2",
   "metadata": {},
   "outputs": [],
   "source": [
    "my_list = [1,2,[3,3],4,4,[5,6]]"
   ]
  },
  {
   "cell_type": "code",
   "execution_count": 18,
   "id": "edcb5f3e",
   "metadata": {},
   "outputs": [
    {
     "data": {
      "text/plain": [
       "[2, [3, 3], 4]"
      ]
     },
     "execution_count": 18,
     "metadata": {},
     "output_type": "execute_result"
    }
   ],
   "source": [
    "my_list[1:4]"
   ]
  },
  {
   "cell_type": "code",
   "execution_count": 19,
   "id": "cbc7d6ae",
   "metadata": {},
   "outputs": [],
   "source": [
    "my_list[0]='hello'"
   ]
  },
  {
   "cell_type": "code",
   "execution_count": 20,
   "id": "63791f87",
   "metadata": {},
   "outputs": [
    {
     "data": {
      "text/plain": [
       "['hello', 2, [3, 3], 4, 4, [5, 6]]"
      ]
     },
     "execution_count": 20,
     "metadata": {},
     "output_type": "execute_result"
    }
   ],
   "source": [
    "my_list"
   ]
  },
  {
   "cell_type": "code",
   "execution_count": 21,
   "id": "5c697b59",
   "metadata": {},
   "outputs": [
    {
     "data": {
      "text/plain": [
       "True"
      ]
     },
     "execution_count": 21,
     "metadata": {},
     "output_type": "execute_result"
    }
   ],
   "source": [
    "'hi' == 'hi'"
   ]
  },
  {
   "cell_type": "code",
   "execution_count": 22,
   "id": "8fd5863a",
   "metadata": {},
   "outputs": [],
   "source": [
    "seq = [1,2,3,4,5]"
   ]
  },
  {
   "cell_type": "code",
   "execution_count": 23,
   "id": "b195f8c1",
   "metadata": {},
   "outputs": [
    {
     "name": "stdout",
     "output_type": "stream",
     "text": [
      "1\n",
      "2\n",
      "3\n",
      "4\n",
      "5\n"
     ]
    }
   ],
   "source": [
    "for item in seq:\n",
    "    print(item)"
   ]
  },
  {
   "cell_type": "code",
   "execution_count": 28,
   "id": "535e30ef",
   "metadata": {},
   "outputs": [
    {
     "name": "stdout",
     "output_type": "stream",
     "text": [
      "1\n",
      "2\n",
      "3\n",
      "4\n",
      "5\n"
     ]
    }
   ],
   "source": [
    "for i in seq:\n",
    "    print(i)"
   ]
  },
  {
   "cell_type": "code",
   "execution_count": 29,
   "id": "d8b964b3",
   "metadata": {},
   "outputs": [
    {
     "name": "stdout",
     "output_type": "stream",
     "text": [
      "0\n",
      "1\n",
      "2\n",
      "3\n",
      "4\n",
      "5\n",
      "6\n",
      "7\n",
      "8\n",
      "9\n",
      "10\n",
      "11\n",
      "12\n",
      "13\n",
      "14\n",
      "15\n",
      "16\n",
      "17\n",
      "18\n",
      "19\n"
     ]
    }
   ],
   "source": [
    "for n in range(20):\n",
    "    print(n)"
   ]
  },
  {
   "cell_type": "code",
   "execution_count": 38,
   "id": "cfa858c1",
   "metadata": {},
   "outputs": [],
   "source": [
    "def hello_world(name):\n",
    "    print('hello '+name+'!')"
   ]
  },
  {
   "cell_type": "code",
   "execution_count": 37,
   "id": "fec3bebb",
   "metadata": {},
   "outputs": [
    {
     "name": "stdout",
     "output_type": "stream",
     "text": [
      "hello worlds!li!\n"
     ]
    }
   ],
   "source": [
    "hello_world('li')"
   ]
  },
  {
   "cell_type": "code",
   "execution_count": null,
   "id": "b3d2da38",
   "metadata": {},
   "outputs": [],
   "source": []
  }
 ],
 "metadata": {
  "kernelspec": {
   "display_name": "Python 3 (ipykernel)",
   "language": "python",
   "name": "python3"
  },
  "language_info": {
   "codemirror_mode": {
    "name": "ipython",
    "version": 3
   },
   "file_extension": ".py",
   "mimetype": "text/x-python",
   "name": "python",
   "nbconvert_exporter": "python",
   "pygments_lexer": "ipython3",
   "version": "3.11.4"
  }
 },
 "nbformat": 4,
 "nbformat_minor": 5
}
